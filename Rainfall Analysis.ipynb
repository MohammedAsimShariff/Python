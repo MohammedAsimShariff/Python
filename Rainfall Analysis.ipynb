{
 "cells": [
  {
   "cell_type": "markdown",
   "id": "02bee663",
   "metadata": {},
   "source": [
    "# Rainfall Data Analysis"
   ]
  },
  {
   "cell_type": "markdown",
   "id": "8864759b",
   "metadata": {},
   "source": [
    "## Introduction to Rainfall Dataset:\n",
    "\n",
    "The \"rainfall\" dataset has been obtained from kaggle. The data refers to details on climatological normals of district wise rainfall (in mm) calculated with the data for the period 1951-2000. This dataset is valuable for understanding and analyzing patterns of rainfall across different regions. Each entry in the dataset is likely associated with specific details such as the geographical location (state, district, etc.) and temporal information (monthly, annually, etc.)."
   ]
  },
  {
   "cell_type": "markdown",
   "id": "1e0c30da",
   "metadata": {},
   "source": [
    "## Questions.\n",
    "\n",
    "* Find the average annual rainfall across states.\n",
    "* Find the district that gets the highest and lowest annual rainfall.\n",
    "* Which month produces most and least rainfall.\n",
    "* Display the top 5 states that get the highest and lowest annual rainfall.\n",
    "* Find the average annual rainfall across months and \n",
    "  for each state, display the district that gets the highest rainfall that month.\n",
    "* Display the count of districts in each state.\n",
    "* Create some visualizations."
   ]
  },
  {
   "cell_type": "markdown",
   "id": "13cda1a9",
   "metadata": {},
   "source": [
    "## Import and read the data."
   ]
  },
  {
   "cell_type": "code",
   "execution_count": 1,
   "id": "5910f11e",
   "metadata": {},
   "outputs": [],
   "source": [
    "import pandas as pd\n",
    "import numpy as np\n",
    "import matplotlib.pyplot as plt"
   ]
  },
  {
   "cell_type": "code",
   "execution_count": 2,
   "id": "b689442b",
   "metadata": {
    "scrolled": false
   },
   "outputs": [
    {
     "data": {
      "text/html": [
       "<div>\n",
       "<style scoped>\n",
       "    .dataframe tbody tr th:only-of-type {\n",
       "        vertical-align: middle;\n",
       "    }\n",
       "\n",
       "    .dataframe tbody tr th {\n",
       "        vertical-align: top;\n",
       "    }\n",
       "\n",
       "    .dataframe thead th {\n",
       "        text-align: right;\n",
       "    }\n",
       "</style>\n",
       "<table border=\"1\" class=\"dataframe\">\n",
       "  <thead>\n",
       "    <tr style=\"text-align: right;\">\n",
       "      <th></th>\n",
       "      <th>STATE_UT_NAME</th>\n",
       "      <th>DISTRICT</th>\n",
       "      <th>JAN</th>\n",
       "      <th>FEB</th>\n",
       "      <th>MAR</th>\n",
       "      <th>APR</th>\n",
       "      <th>MAY</th>\n",
       "      <th>JUN</th>\n",
       "      <th>JUL</th>\n",
       "      <th>AUG</th>\n",
       "      <th>SEP</th>\n",
       "      <th>OCT</th>\n",
       "      <th>NOV</th>\n",
       "      <th>DEC</th>\n",
       "      <th>ANNUAL</th>\n",
       "      <th>Jan-Feb</th>\n",
       "      <th>Mar-May</th>\n",
       "      <th>Jun-Sep</th>\n",
       "      <th>Oct-Dec</th>\n",
       "    </tr>\n",
       "  </thead>\n",
       "  <tbody>\n",
       "    <tr>\n",
       "      <th>0</th>\n",
       "      <td>ANDAMAN And NICOBAR ISLANDS</td>\n",
       "      <td>NICOBAR</td>\n",
       "      <td>107.3</td>\n",
       "      <td>57.9</td>\n",
       "      <td>65.2</td>\n",
       "      <td>117.0</td>\n",
       "      <td>358.5</td>\n",
       "      <td>295.5</td>\n",
       "      <td>285.0</td>\n",
       "      <td>271.9</td>\n",
       "      <td>354.8</td>\n",
       "      <td>326.0</td>\n",
       "      <td>315.2</td>\n",
       "      <td>250.9</td>\n",
       "      <td>2805.2</td>\n",
       "      <td>165.2</td>\n",
       "      <td>540.7</td>\n",
       "      <td>1207.2</td>\n",
       "      <td>892.1</td>\n",
       "    </tr>\n",
       "    <tr>\n",
       "      <th>1</th>\n",
       "      <td>ANDAMAN And NICOBAR ISLANDS</td>\n",
       "      <td>SOUTH ANDAMAN</td>\n",
       "      <td>43.7</td>\n",
       "      <td>26.0</td>\n",
       "      <td>18.6</td>\n",
       "      <td>90.5</td>\n",
       "      <td>374.4</td>\n",
       "      <td>457.2</td>\n",
       "      <td>421.3</td>\n",
       "      <td>423.1</td>\n",
       "      <td>455.6</td>\n",
       "      <td>301.2</td>\n",
       "      <td>275.8</td>\n",
       "      <td>128.3</td>\n",
       "      <td>3015.7</td>\n",
       "      <td>69.7</td>\n",
       "      <td>483.5</td>\n",
       "      <td>1757.2</td>\n",
       "      <td>705.3</td>\n",
       "    </tr>\n",
       "    <tr>\n",
       "      <th>2</th>\n",
       "      <td>ANDAMAN And NICOBAR ISLANDS</td>\n",
       "      <td>N &amp; M ANDAMAN</td>\n",
       "      <td>32.7</td>\n",
       "      <td>15.9</td>\n",
       "      <td>8.6</td>\n",
       "      <td>53.4</td>\n",
       "      <td>343.6</td>\n",
       "      <td>503.3</td>\n",
       "      <td>465.4</td>\n",
       "      <td>460.9</td>\n",
       "      <td>454.8</td>\n",
       "      <td>276.1</td>\n",
       "      <td>198.6</td>\n",
       "      <td>100.0</td>\n",
       "      <td>2913.3</td>\n",
       "      <td>48.6</td>\n",
       "      <td>405.6</td>\n",
       "      <td>1884.4</td>\n",
       "      <td>574.7</td>\n",
       "    </tr>\n",
       "    <tr>\n",
       "      <th>3</th>\n",
       "      <td>ARUNACHAL PRADESH</td>\n",
       "      <td>LOHIT</td>\n",
       "      <td>42.2</td>\n",
       "      <td>80.8</td>\n",
       "      <td>176.4</td>\n",
       "      <td>358.5</td>\n",
       "      <td>306.4</td>\n",
       "      <td>447.0</td>\n",
       "      <td>660.1</td>\n",
       "      <td>427.8</td>\n",
       "      <td>313.6</td>\n",
       "      <td>167.1</td>\n",
       "      <td>34.1</td>\n",
       "      <td>29.8</td>\n",
       "      <td>3043.8</td>\n",
       "      <td>123.0</td>\n",
       "      <td>841.3</td>\n",
       "      <td>1848.5</td>\n",
       "      <td>231.0</td>\n",
       "    </tr>\n",
       "    <tr>\n",
       "      <th>4</th>\n",
       "      <td>ARUNACHAL PRADESH</td>\n",
       "      <td>EAST SIANG</td>\n",
       "      <td>33.3</td>\n",
       "      <td>79.5</td>\n",
       "      <td>105.9</td>\n",
       "      <td>216.5</td>\n",
       "      <td>323.0</td>\n",
       "      <td>738.3</td>\n",
       "      <td>990.9</td>\n",
       "      <td>711.2</td>\n",
       "      <td>568.0</td>\n",
       "      <td>206.9</td>\n",
       "      <td>29.5</td>\n",
       "      <td>31.7</td>\n",
       "      <td>4034.7</td>\n",
       "      <td>112.8</td>\n",
       "      <td>645.4</td>\n",
       "      <td>3008.4</td>\n",
       "      <td>268.1</td>\n",
       "    </tr>\n",
       "    <tr>\n",
       "      <th>...</th>\n",
       "      <td>...</td>\n",
       "      <td>...</td>\n",
       "      <td>...</td>\n",
       "      <td>...</td>\n",
       "      <td>...</td>\n",
       "      <td>...</td>\n",
       "      <td>...</td>\n",
       "      <td>...</td>\n",
       "      <td>...</td>\n",
       "      <td>...</td>\n",
       "      <td>...</td>\n",
       "      <td>...</td>\n",
       "      <td>...</td>\n",
       "      <td>...</td>\n",
       "      <td>...</td>\n",
       "      <td>...</td>\n",
       "      <td>...</td>\n",
       "      <td>...</td>\n",
       "      <td>...</td>\n",
       "    </tr>\n",
       "    <tr>\n",
       "      <th>636</th>\n",
       "      <td>KERALA</td>\n",
       "      <td>IDUKKI</td>\n",
       "      <td>13.4</td>\n",
       "      <td>22.1</td>\n",
       "      <td>43.6</td>\n",
       "      <td>150.4</td>\n",
       "      <td>232.6</td>\n",
       "      <td>651.6</td>\n",
       "      <td>788.9</td>\n",
       "      <td>527.3</td>\n",
       "      <td>308.4</td>\n",
       "      <td>343.2</td>\n",
       "      <td>172.9</td>\n",
       "      <td>48.1</td>\n",
       "      <td>3302.5</td>\n",
       "      <td>35.5</td>\n",
       "      <td>426.6</td>\n",
       "      <td>2276.2</td>\n",
       "      <td>564.2</td>\n",
       "    </tr>\n",
       "    <tr>\n",
       "      <th>637</th>\n",
       "      <td>KERALA</td>\n",
       "      <td>KASARGOD</td>\n",
       "      <td>2.3</td>\n",
       "      <td>1.0</td>\n",
       "      <td>8.4</td>\n",
       "      <td>46.9</td>\n",
       "      <td>217.6</td>\n",
       "      <td>999.6</td>\n",
       "      <td>1108.5</td>\n",
       "      <td>636.3</td>\n",
       "      <td>263.1</td>\n",
       "      <td>234.9</td>\n",
       "      <td>84.6</td>\n",
       "      <td>18.4</td>\n",
       "      <td>3621.6</td>\n",
       "      <td>3.3</td>\n",
       "      <td>272.9</td>\n",
       "      <td>3007.5</td>\n",
       "      <td>337.9</td>\n",
       "    </tr>\n",
       "    <tr>\n",
       "      <th>638</th>\n",
       "      <td>KERALA</td>\n",
       "      <td>PATHANAMTHITTA</td>\n",
       "      <td>19.8</td>\n",
       "      <td>45.2</td>\n",
       "      <td>73.9</td>\n",
       "      <td>184.9</td>\n",
       "      <td>294.7</td>\n",
       "      <td>556.9</td>\n",
       "      <td>539.9</td>\n",
       "      <td>352.7</td>\n",
       "      <td>266.2</td>\n",
       "      <td>359.4</td>\n",
       "      <td>213.5</td>\n",
       "      <td>51.3</td>\n",
       "      <td>2958.4</td>\n",
       "      <td>65.0</td>\n",
       "      <td>553.5</td>\n",
       "      <td>1715.7</td>\n",
       "      <td>624.2</td>\n",
       "    </tr>\n",
       "    <tr>\n",
       "      <th>639</th>\n",
       "      <td>KERALA</td>\n",
       "      <td>WAYANAD</td>\n",
       "      <td>4.8</td>\n",
       "      <td>8.3</td>\n",
       "      <td>17.5</td>\n",
       "      <td>83.3</td>\n",
       "      <td>174.6</td>\n",
       "      <td>698.1</td>\n",
       "      <td>1110.4</td>\n",
       "      <td>592.9</td>\n",
       "      <td>230.7</td>\n",
       "      <td>213.1</td>\n",
       "      <td>93.6</td>\n",
       "      <td>25.8</td>\n",
       "      <td>3253.1</td>\n",
       "      <td>13.1</td>\n",
       "      <td>275.4</td>\n",
       "      <td>2632.1</td>\n",
       "      <td>332.5</td>\n",
       "    </tr>\n",
       "    <tr>\n",
       "      <th>640</th>\n",
       "      <td>LAKSHADWEEP</td>\n",
       "      <td>LAKSHADWEEP</td>\n",
       "      <td>20.8</td>\n",
       "      <td>14.7</td>\n",
       "      <td>11.8</td>\n",
       "      <td>48.9</td>\n",
       "      <td>171.7</td>\n",
       "      <td>330.2</td>\n",
       "      <td>287.7</td>\n",
       "      <td>217.5</td>\n",
       "      <td>163.1</td>\n",
       "      <td>157.1</td>\n",
       "      <td>117.7</td>\n",
       "      <td>58.8</td>\n",
       "      <td>1600.0</td>\n",
       "      <td>35.5</td>\n",
       "      <td>232.4</td>\n",
       "      <td>998.5</td>\n",
       "      <td>333.6</td>\n",
       "    </tr>\n",
       "  </tbody>\n",
       "</table>\n",
       "<p>641 rows × 19 columns</p>\n",
       "</div>"
      ],
      "text/plain": [
       "                   STATE_UT_NAME        DISTRICT    JAN   FEB    MAR    APR  \\\n",
       "0    ANDAMAN And NICOBAR ISLANDS         NICOBAR  107.3  57.9   65.2  117.0   \n",
       "1    ANDAMAN And NICOBAR ISLANDS   SOUTH ANDAMAN   43.7  26.0   18.6   90.5   \n",
       "2    ANDAMAN And NICOBAR ISLANDS   N & M ANDAMAN   32.7  15.9    8.6   53.4   \n",
       "3              ARUNACHAL PRADESH           LOHIT   42.2  80.8  176.4  358.5   \n",
       "4              ARUNACHAL PRADESH      EAST SIANG   33.3  79.5  105.9  216.5   \n",
       "..                           ...             ...    ...   ...    ...    ...   \n",
       "636                       KERALA          IDUKKI   13.4  22.1   43.6  150.4   \n",
       "637                       KERALA        KASARGOD    2.3   1.0    8.4   46.9   \n",
       "638                       KERALA  PATHANAMTHITTA   19.8  45.2   73.9  184.9   \n",
       "639                       KERALA         WAYANAD    4.8   8.3   17.5   83.3   \n",
       "640                  LAKSHADWEEP     LAKSHADWEEP   20.8  14.7   11.8   48.9   \n",
       "\n",
       "       MAY    JUN     JUL    AUG    SEP    OCT    NOV    DEC  ANNUAL  Jan-Feb  \\\n",
       "0    358.5  295.5   285.0  271.9  354.8  326.0  315.2  250.9  2805.2    165.2   \n",
       "1    374.4  457.2   421.3  423.1  455.6  301.2  275.8  128.3  3015.7     69.7   \n",
       "2    343.6  503.3   465.4  460.9  454.8  276.1  198.6  100.0  2913.3     48.6   \n",
       "3    306.4  447.0   660.1  427.8  313.6  167.1   34.1   29.8  3043.8    123.0   \n",
       "4    323.0  738.3   990.9  711.2  568.0  206.9   29.5   31.7  4034.7    112.8   \n",
       "..     ...    ...     ...    ...    ...    ...    ...    ...     ...      ...   \n",
       "636  232.6  651.6   788.9  527.3  308.4  343.2  172.9   48.1  3302.5     35.5   \n",
       "637  217.6  999.6  1108.5  636.3  263.1  234.9   84.6   18.4  3621.6      3.3   \n",
       "638  294.7  556.9   539.9  352.7  266.2  359.4  213.5   51.3  2958.4     65.0   \n",
       "639  174.6  698.1  1110.4  592.9  230.7  213.1   93.6   25.8  3253.1     13.1   \n",
       "640  171.7  330.2   287.7  217.5  163.1  157.1  117.7   58.8  1600.0     35.5   \n",
       "\n",
       "     Mar-May  Jun-Sep  Oct-Dec  \n",
       "0      540.7   1207.2    892.1  \n",
       "1      483.5   1757.2    705.3  \n",
       "2      405.6   1884.4    574.7  \n",
       "3      841.3   1848.5    231.0  \n",
       "4      645.4   3008.4    268.1  \n",
       "..       ...      ...      ...  \n",
       "636    426.6   2276.2    564.2  \n",
       "637    272.9   3007.5    337.9  \n",
       "638    553.5   1715.7    624.2  \n",
       "639    275.4   2632.1    332.5  \n",
       "640    232.4    998.5    333.6  \n",
       "\n",
       "[641 rows x 19 columns]"
      ]
     },
     "execution_count": 2,
     "metadata": {},
     "output_type": "execute_result"
    }
   ],
   "source": [
    "df = pd.read_csv(r\"C:\\Users\\Mohammed Asim\\Documents\\Python\\rainfall1627650742214.csv\")\n",
    "df"
   ]
  },
  {
   "cell_type": "markdown",
   "id": "a0e2be56",
   "metadata": {},
   "source": [
    "## Check for missing values."
   ]
  },
  {
   "cell_type": "code",
   "execution_count": 3,
   "id": "4f1e0383",
   "metadata": {
    "scrolled": false
   },
   "outputs": [
    {
     "name": "stdout",
     "output_type": "stream",
     "text": [
      "<class 'pandas.core.frame.DataFrame'>\n",
      "RangeIndex: 641 entries, 0 to 640\n",
      "Data columns (total 19 columns):\n",
      " #   Column         Non-Null Count  Dtype  \n",
      "---  ------         --------------  -----  \n",
      " 0   STATE_UT_NAME  641 non-null    object \n",
      " 1   DISTRICT       641 non-null    object \n",
      " 2   JAN            641 non-null    float64\n",
      " 3   FEB            641 non-null    float64\n",
      " 4   MAR            641 non-null    float64\n",
      " 5   APR            641 non-null    float64\n",
      " 6   MAY            641 non-null    float64\n",
      " 7   JUN            641 non-null    float64\n",
      " 8   JUL            641 non-null    float64\n",
      " 9   AUG            641 non-null    float64\n",
      " 10  SEP            641 non-null    float64\n",
      " 11  OCT            641 non-null    float64\n",
      " 12  NOV            641 non-null    float64\n",
      " 13  DEC            641 non-null    float64\n",
      " 14  ANNUAL         641 non-null    float64\n",
      " 15  Jan-Feb        641 non-null    float64\n",
      " 16  Mar-May        641 non-null    float64\n",
      " 17  Jun-Sep        641 non-null    float64\n",
      " 18  Oct-Dec        641 non-null    float64\n",
      "dtypes: float64(17), object(2)\n",
      "memory usage: 95.3+ KB\n"
     ]
    }
   ],
   "source": [
    "df.info()"
   ]
  },
  {
   "cell_type": "markdown",
   "id": "ab4e0c20",
   "metadata": {},
   "source": [
    "There are no missing values"
   ]
  },
  {
   "cell_type": "markdown",
   "id": "732a71de",
   "metadata": {},
   "source": [
    " "
   ]
  },
  {
   "cell_type": "markdown",
   "id": "9d716ffd",
   "metadata": {},
   "source": [
    "## Find the average annual rainfall across states."
   ]
  },
  {
   "cell_type": "code",
   "execution_count": 4,
   "id": "a00d3cb2",
   "metadata": {
    "scrolled": true
   },
   "outputs": [
    {
     "data": {
      "text/plain": [
       "STATE_UT_NAME\n",
       "ANDAMAN And NICOBAR ISLANDS    2911.400000\n",
       "ANDHRA PRADESH                  945.073913\n",
       "ARUNACHAL PRADESH              2927.375000\n",
       "ASSAM                          2454.359259\n",
       "BIHAR                          1200.555263\n",
       "CHANDIGARH                     1070.600000\n",
       "CHATISGARH                     1286.350000\n",
       "DADAR NAGAR HAVELI             2374.100000\n",
       "DAMAN AND DUI                  1535.700000\n",
       "DELHI                           747.100000\n",
       "GOA                            3278.500000\n",
       "GUJARAT                         924.342308\n",
       "HARYANA                         614.557143\n",
       "HIMACHAL                       1371.591667\n",
       "JAMMU AND KASHMIR              1016.618182\n",
       "JHARKHAND                      1303.437500\n",
       "KARNATAKA                      1194.616667\n",
       "KERALA                         2937.392857\n",
       "LAKSHADWEEP                    1600.000000\n",
       "MADHYA PRADESH                 1032.310000\n",
       "MAHARASHTRA                    1278.588571\n",
       "MANIPUR                        2496.633333\n",
       "MEGHALAYA                      3682.842857\n",
       "MIZORAM                        2616.322222\n",
       "NAGALAND                       1940.700000\n",
       "ORISSA                         1466.120000\n",
       "PONDICHERRY                    1378.475000\n",
       "PUNJAB                          648.545000\n",
       "RAJASTHAN                       581.596970\n",
       "SIKKIM                         2838.350000\n",
       "TAMIL NADU                      960.006250\n",
       "TRIPURA                        2479.125000\n",
       "UTTAR PRADESH                   955.445070\n",
       "UTTARANCHAL                    1558.038462\n",
       "WEST BENGAL                    1810.426316\n",
       "Name: ANNUAL, dtype: float64"
      ]
     },
     "execution_count": 4,
     "metadata": {},
     "output_type": "execute_result"
    }
   ],
   "source": [
    "average_annual_rainfall = df.groupby('STATE_UT_NAME')['ANNUAL'].mean()\n",
    "average_annual_rainfall"
   ]
  },
  {
   "cell_type": "markdown",
   "id": "a0c42454",
   "metadata": {},
   "source": [
    " "
   ]
  },
  {
   "cell_type": "markdown",
   "id": "638f5fa9",
   "metadata": {},
   "source": [
    "## Find the district that gets the highest and lowest annual rainfall."
   ]
  },
  {
   "cell_type": "markdown",
   "id": "55a1bbdf",
   "metadata": {},
   "source": [
    "#### District with highest annual rainfall"
   ]
  },
  {
   "cell_type": "code",
   "execution_count": 5,
   "id": "a23948b6",
   "metadata": {
    "scrolled": true
   },
   "outputs": [
    {
     "data": {
      "text/plain": [
       "DISTRICT    TAMENGLONG\n",
       "ANNUAL          7229.3\n",
       "Name: 55, dtype: object"
      ]
     },
     "execution_count": 5,
     "metadata": {},
     "output_type": "execute_result"
    }
   ],
   "source": [
    "highest_rainfall = df.loc[df['ANNUAL'].idxmax()]\n",
    "highest_rainfall[['DISTRICT','ANNUAL']]"
   ]
  },
  {
   "cell_type": "markdown",
   "id": "6aa68f35",
   "metadata": {},
   "source": [
    "#### District with lowest annual rainfall"
   ]
  },
  {
   "cell_type": "code",
   "execution_count": 6,
   "id": "a60681a6",
   "metadata": {},
   "outputs": [
    {
     "data": {
      "text/plain": [
       "DISTRICT    LADAKH (LEH)\n",
       "ANNUAL              94.6\n",
       "Name: 353, dtype: object"
      ]
     },
     "execution_count": 6,
     "metadata": {},
     "output_type": "execute_result"
    }
   ],
   "source": [
    "lowest_rainfall = df.loc[df['ANNUAL'].idxmin()]\n",
    "lowest_rainfall[['DISTRICT','ANNUAL']]"
   ]
  },
  {
   "cell_type": "code",
   "execution_count": 7,
   "id": "864fb232",
   "metadata": {},
   "outputs": [],
   "source": [
    "# Alternatively we can use this as well\n",
    "# df.sort_values(by='ANNUAL', ascending=True).head(1)\n",
    "# df.sort_values(by='ANNUAL', ascending=False).head(1)"
   ]
  },
  {
   "cell_type": "markdown",
   "id": "df4ff090",
   "metadata": {},
   "source": [
    "## Which month produces most and least rainfall."
   ]
  },
  {
   "cell_type": "markdown",
   "id": "48d17bc6",
   "metadata": {},
   "source": [
    "#### Most rainfall produced in a month"
   ]
  },
  {
   "cell_type": "code",
   "execution_count": 8,
   "id": "f693c938",
   "metadata": {
    "scrolled": true
   },
   "outputs": [
    {
     "name": "stdout",
     "output_type": "stream",
     "text": [
      "JUL - 208987.59999999998\n"
     ]
    }
   ],
   "source": [
    "most_rainfall_month = df[['JAN', 'FEB', 'MAR', 'APR', 'MAY', 'JUN', 'JUL', 'AUG', 'SEP', 'OCT', 'NOV', 'DEC']].sum().idxmax()\n",
    "\n",
    "most_rainfall_total = df[most_rainfall_month].sum()\n",
    "\n",
    "print(most_rainfall_month,'-', most_rainfall_total)"
   ]
  },
  {
   "cell_type": "markdown",
   "id": "c161bb7f",
   "metadata": {},
   "source": [
    "#### Least rainfall produced in a month"
   ]
  },
  {
   "cell_type": "code",
   "execution_count": 9,
   "id": "249d1139",
   "metadata": {},
   "outputs": [
    {
     "name": "stdout",
     "output_type": "stream",
     "text": [
      "DEC - 11634.7\n"
     ]
    }
   ],
   "source": [
    "least_rainfall_month = df[['JAN', 'FEB', 'MAR', 'APR', 'MAY', 'JUN', 'JUL', 'AUG', 'SEP', 'OCT', 'NOV', 'DEC']].sum().idxmin()\n",
    "\n",
    "least_rainfall_total = df[least_rainfall_month].sum()\n",
    "\n",
    "print(least_rainfall_month,'-', least_rainfall_total)"
   ]
  },
  {
   "cell_type": "markdown",
   "id": "7a22c094",
   "metadata": {},
   "source": [
    "## Display the top 5 states that get the highest and lowest annual rainfall."
   ]
  },
  {
   "cell_type": "markdown",
   "id": "09e76f0c",
   "metadata": {},
   "source": [
    "####  Top 5 states that get the highest annual rainfall."
   ]
  },
  {
   "cell_type": "code",
   "execution_count": 10,
   "id": "c3daab0f",
   "metadata": {
    "scrolled": true
   },
   "outputs": [
    {
     "data": {
      "text/plain": [
       "STATE_UT_NAME\n",
       "MEGHALAYA                      3682.842857\n",
       "GOA                            3278.500000\n",
       "KERALA                         2937.392857\n",
       "ARUNACHAL PRADESH              2927.375000\n",
       "ANDAMAN And NICOBAR ISLANDS    2911.400000\n",
       "Name: ANNUAL, dtype: float64"
      ]
     },
     "execution_count": 10,
     "metadata": {},
     "output_type": "execute_result"
    }
   ],
   "source": [
    "top_5_states_highest_rainfall = df.groupby('STATE_UT_NAME')['ANNUAL'].mean().sort_values(ascending=False).head(5)\n",
    "\n",
    "top_5_states_highest_rainfall"
   ]
  },
  {
   "cell_type": "markdown",
   "id": "6efc73e0",
   "metadata": {},
   "source": [
    "####  Top 5 states that get the lowest annual rainfall."
   ]
  },
  {
   "cell_type": "code",
   "execution_count": 11,
   "id": "56eecad6",
   "metadata": {},
   "outputs": [
    {
     "data": {
      "text/plain": [
       "STATE_UT_NAME\n",
       "RAJASTHAN    581.596970\n",
       "HARYANA      614.557143\n",
       "PUNJAB       648.545000\n",
       "DELHI        747.100000\n",
       "GUJARAT      924.342308\n",
       "Name: ANNUAL, dtype: float64"
      ]
     },
     "execution_count": 11,
     "metadata": {},
     "output_type": "execute_result"
    }
   ],
   "source": [
    "top_5_states_lowest_rainfall = df.groupby('STATE_UT_NAME')['ANNUAL'].mean().sort_values(ascending = True).head(5)\n",
    "\n",
    "top_5_states_lowest_rainfall "
   ]
  },
  {
   "cell_type": "markdown",
   "id": "dfd36d71",
   "metadata": {},
   "source": [
    " "
   ]
  },
  {
   "cell_type": "markdown",
   "id": "f02c5773",
   "metadata": {},
   "source": [
    "## Find the highest average annual rainfall between the months and for each state, display the district that gets the highest and lowest rainfall for that month."
   ]
  },
  {
   "cell_type": "markdown",
   "id": "4fa99e7a",
   "metadata": {},
   "source": [
    "#### Highest rainfall produced in a month and find the district that produces it in each state"
   ]
  },
  {
   "cell_type": "code",
   "execution_count": 20,
   "id": "c9202a68",
   "metadata": {
    "scrolled": true
   },
   "outputs": [
    {
     "data": {
      "text/html": [
       "<div>\n",
       "<style scoped>\n",
       "    .dataframe tbody tr th:only-of-type {\n",
       "        vertical-align: middle;\n",
       "    }\n",
       "\n",
       "    .dataframe tbody tr th {\n",
       "        vertical-align: top;\n",
       "    }\n",
       "\n",
       "    .dataframe thead th {\n",
       "        text-align: right;\n",
       "    }\n",
       "</style>\n",
       "<table border=\"1\" class=\"dataframe\">\n",
       "  <thead>\n",
       "    <tr style=\"text-align: right;\">\n",
       "      <th></th>\n",
       "      <th>STATE_UT_NAME</th>\n",
       "      <th>DISTRICT</th>\n",
       "      <th>JUL</th>\n",
       "    </tr>\n",
       "  </thead>\n",
       "  <tbody>\n",
       "    <tr>\n",
       "      <th>2</th>\n",
       "      <td>ANDAMAN And NICOBAR ISLANDS</td>\n",
       "      <td>N &amp; M ANDAMAN</td>\n",
       "      <td>465.4</td>\n",
       "    </tr>\n",
       "    <tr>\n",
       "      <th>546</th>\n",
       "      <td>ANDHRA PRADESH</td>\n",
       "      <td>ADILABAD</td>\n",
       "      <td>317.4</td>\n",
       "    </tr>\n",
       "    <tr>\n",
       "      <th>4</th>\n",
       "      <td>ARUNACHAL PRADESH</td>\n",
       "      <td>EAST SIANG</td>\n",
       "      <td>990.9</td>\n",
       "    </tr>\n",
       "    <tr>\n",
       "      <th>32</th>\n",
       "      <td>ASSAM</td>\n",
       "      <td>KOKRAJHAR</td>\n",
       "      <td>864.2</td>\n",
       "    </tr>\n",
       "    <tr>\n",
       "      <th>194</th>\n",
       "      <td>BIHAR</td>\n",
       "      <td>KISHANGANJ</td>\n",
       "      <td>579.1</td>\n",
       "    </tr>\n",
       "    <tr>\n",
       "      <th>306</th>\n",
       "      <td>CHANDIGARH</td>\n",
       "      <td>CHANDIGARH</td>\n",
       "      <td>282.4</td>\n",
       "    </tr>\n",
       "    <tr>\n",
       "      <th>536</th>\n",
       "      <td>CHATISGARH</td>\n",
       "      <td>BIJAPUR</td>\n",
       "      <td>458.2</td>\n",
       "    </tr>\n",
       "    <tr>\n",
       "      <th>479</th>\n",
       "      <td>DADAR NAGAR HAVELI</td>\n",
       "      <td>DNH</td>\n",
       "      <td>884.5</td>\n",
       "    </tr>\n",
       "    <tr>\n",
       "      <th>480</th>\n",
       "      <td>DAMAN AND DUI</td>\n",
       "      <td>DAMAN</td>\n",
       "      <td>884.5</td>\n",
       "    </tr>\n",
       "    <tr>\n",
       "      <th>307</th>\n",
       "      <td>DELHI</td>\n",
       "      <td>NEW DELHI</td>\n",
       "      <td>220.7</td>\n",
       "    </tr>\n",
       "    <tr>\n",
       "      <th>488</th>\n",
       "      <td>GOA</td>\n",
       "      <td>NORTH GOA</td>\n",
       "      <td>1182.6</td>\n",
       "    </tr>\n",
       "    <tr>\n",
       "      <th>457</th>\n",
       "      <td>GUJARAT</td>\n",
       "      <td>VALSAD</td>\n",
       "      <td>771.8</td>\n",
       "    </tr>\n",
       "    <tr>\n",
       "      <th>303</th>\n",
       "      <td>HARYANA</td>\n",
       "      <td>PANCHKULA</td>\n",
       "      <td>327.0</td>\n",
       "    </tr>\n",
       "    <tr>\n",
       "      <th>338</th>\n",
       "      <td>HIMACHAL</td>\n",
       "      <td>KANGRA</td>\n",
       "      <td>583.2</td>\n",
       "    </tr>\n",
       "    <tr>\n",
       "      <th>354</th>\n",
       "      <td>JAMMU AND KASHMIR</td>\n",
       "      <td>UDHAMPUR</td>\n",
       "      <td>514.7</td>\n",
       "    </tr>\n",
       "    <tr>\n",
       "      <th>160</th>\n",
       "      <td>JHARKHAND</td>\n",
       "      <td>SIMDEGA</td>\n",
       "      <td>459.4</td>\n",
       "    </tr>\n",
       "    <tr>\n",
       "      <th>598</th>\n",
       "      <td>KARNATAKA</td>\n",
       "      <td>UDUPI</td>\n",
       "      <td>1371.6</td>\n",
       "    </tr>\n",
       "    <tr>\n",
       "      <th>639</th>\n",
       "      <td>KERALA</td>\n",
       "      <td>WAYANAD</td>\n",
       "      <td>1110.4</td>\n",
       "    </tr>\n",
       "    <tr>\n",
       "      <th>640</th>\n",
       "      <td>LAKSHADWEEP</td>\n",
       "      <td>LAKSHADWEEP</td>\n",
       "      <td>287.7</td>\n",
       "    </tr>\n",
       "    <tr>\n",
       "      <th>433</th>\n",
       "      <td>MADHYA PRADESH</td>\n",
       "      <td>BALAGHAT</td>\n",
       "      <td>475.3</td>\n",
       "    </tr>\n",
       "    <tr>\n",
       "      <th>484</th>\n",
       "      <td>MAHARASHTRA</td>\n",
       "      <td>RATNAGIRI</td>\n",
       "      <td>1212.7</td>\n",
       "    </tr>\n",
       "    <tr>\n",
       "      <th>55</th>\n",
       "      <td>MANIPUR</td>\n",
       "      <td>TAMENGLONG</td>\n",
       "      <td>1820.9</td>\n",
       "    </tr>\n",
       "    <tr>\n",
       "      <th>47</th>\n",
       "      <td>MEGHALAYA</td>\n",
       "      <td>JAINTIA HILLS</td>\n",
       "      <td>1591.3</td>\n",
       "    </tr>\n",
       "    <tr>\n",
       "      <th>65</th>\n",
       "      <td>MIZORAM</td>\n",
       "      <td>LUNGLEI</td>\n",
       "      <td>514.6</td>\n",
       "    </tr>\n",
       "    <tr>\n",
       "      <th>73</th>\n",
       "      <td>NAGALAND</td>\n",
       "      <td>MOKOKCHUNG</td>\n",
       "      <td>525.1</td>\n",
       "    </tr>\n",
       "    <tr>\n",
       "      <th>127</th>\n",
       "      <td>ORISSA</td>\n",
       "      <td>MALKANGIRI</td>\n",
       "      <td>437.3</td>\n",
       "    </tr>\n",
       "    <tr>\n",
       "      <th>592</th>\n",
       "      <td>PONDICHERRY</td>\n",
       "      <td>PONDICHERRY</td>\n",
       "      <td>84.3</td>\n",
       "    </tr>\n",
       "    <tr>\n",
       "      <th>319</th>\n",
       "      <td>PUNJAB</td>\n",
       "      <td>GURDASPUR</td>\n",
       "      <td>324.6</td>\n",
       "    </tr>\n",
       "    <tr>\n",
       "      <th>394</th>\n",
       "      <td>RAJASTHAN</td>\n",
       "      <td>SIROHI</td>\n",
       "      <td>332.0</td>\n",
       "    </tr>\n",
       "    <tr>\n",
       "      <th>93</th>\n",
       "      <td>SIKKIM</td>\n",
       "      <td>EAST SIKKIM</td>\n",
       "      <td>509.0</td>\n",
       "    </tr>\n",
       "    <tr>\n",
       "      <th>566</th>\n",
       "      <td>TAMIL NADU</td>\n",
       "      <td>NILGIRIS</td>\n",
       "      <td>260.8</td>\n",
       "    </tr>\n",
       "    <tr>\n",
       "      <th>83</th>\n",
       "      <td>TRIPURA</td>\n",
       "      <td>SOUTH TRIPURA</td>\n",
       "      <td>497.4</td>\n",
       "    </tr>\n",
       "    <tr>\n",
       "      <th>228</th>\n",
       "      <td>UTTAR PRADESH</td>\n",
       "      <td>MAHARAJGANJ</td>\n",
       "      <td>421.3</td>\n",
       "    </tr>\n",
       "    <tr>\n",
       "      <th>274</th>\n",
       "      <td>UTTARANCHAL</td>\n",
       "      <td>DEHRADUN</td>\n",
       "      <td>683.3</td>\n",
       "    </tr>\n",
       "    <tr>\n",
       "      <th>88</th>\n",
       "      <td>WEST BENGAL</td>\n",
       "      <td>JALPAIGURI</td>\n",
       "      <td>931.4</td>\n",
       "    </tr>\n",
       "  </tbody>\n",
       "</table>\n",
       "</div>"
      ],
      "text/plain": [
       "                   STATE_UT_NAME       DISTRICT     JUL\n",
       "2    ANDAMAN And NICOBAR ISLANDS  N & M ANDAMAN   465.4\n",
       "546               ANDHRA PRADESH       ADILABAD   317.4\n",
       "4              ARUNACHAL PRADESH     EAST SIANG   990.9\n",
       "32                         ASSAM      KOKRAJHAR   864.2\n",
       "194                        BIHAR     KISHANGANJ   579.1\n",
       "306                   CHANDIGARH     CHANDIGARH   282.4\n",
       "536                   CHATISGARH        BIJAPUR   458.2\n",
       "479           DADAR NAGAR HAVELI            DNH   884.5\n",
       "480                DAMAN AND DUI          DAMAN   884.5\n",
       "307                        DELHI      NEW DELHI   220.7\n",
       "488                          GOA      NORTH GOA  1182.6\n",
       "457                      GUJARAT         VALSAD   771.8\n",
       "303                      HARYANA      PANCHKULA   327.0\n",
       "338                     HIMACHAL         KANGRA   583.2\n",
       "354            JAMMU AND KASHMIR       UDHAMPUR   514.7\n",
       "160                    JHARKHAND        SIMDEGA   459.4\n",
       "598                    KARNATAKA          UDUPI  1371.6\n",
       "639                       KERALA        WAYANAD  1110.4\n",
       "640                  LAKSHADWEEP    LAKSHADWEEP   287.7\n",
       "433               MADHYA PRADESH       BALAGHAT   475.3\n",
       "484                  MAHARASHTRA      RATNAGIRI  1212.7\n",
       "55                       MANIPUR     TAMENGLONG  1820.9\n",
       "47                     MEGHALAYA  JAINTIA HILLS  1591.3\n",
       "65                       MIZORAM        LUNGLEI   514.6\n",
       "73                      NAGALAND     MOKOKCHUNG   525.1\n",
       "127                       ORISSA     MALKANGIRI   437.3\n",
       "592                  PONDICHERRY    PONDICHERRY    84.3\n",
       "319                       PUNJAB      GURDASPUR   324.6\n",
       "394                    RAJASTHAN         SIROHI   332.0\n",
       "93                        SIKKIM    EAST SIKKIM   509.0\n",
       "566                   TAMIL NADU       NILGIRIS   260.8\n",
       "83                       TRIPURA  SOUTH TRIPURA   497.4\n",
       "228                UTTAR PRADESH    MAHARAJGANJ   421.3\n",
       "274                  UTTARANCHAL       DEHRADUN   683.3\n",
       "88                   WEST BENGAL     JALPAIGURI   931.4"
      ]
     },
     "execution_count": 20,
     "metadata": {},
     "output_type": "execute_result"
    }
   ],
   "source": [
    "most_rainfall_month = df[['JAN', 'FEB', 'MAR', 'APR', 'MAY', 'JUN', 'JUL', 'AUG', 'SEP', 'OCT', 'NOV', 'DEC']].mean().idxmax()\n",
    "\n",
    "max_rainfall_district = df.loc[df.groupby('STATE_UT_NAME')[most_rainfall_month].idxmax()]\n",
    "\n",
    "max_rainfall_district[['STATE_UT_NAME', 'DISTRICT', most_rainfall_month]]"
   ]
  },
  {
   "cell_type": "markdown",
   "id": "021ce8a9",
   "metadata": {},
   "source": [
    "#### Lowest rainfall produced in a month and find the district that produces it in each state"
   ]
  },
  {
   "cell_type": "code",
   "execution_count": 21,
   "id": "fe530238",
   "metadata": {
    "scrolled": true
   },
   "outputs": [
    {
     "data": {
      "text/html": [
       "<div>\n",
       "<style scoped>\n",
       "    .dataframe tbody tr th:only-of-type {\n",
       "        vertical-align: middle;\n",
       "    }\n",
       "\n",
       "    .dataframe tbody tr th {\n",
       "        vertical-align: top;\n",
       "    }\n",
       "\n",
       "    .dataframe thead th {\n",
       "        text-align: right;\n",
       "    }\n",
       "</style>\n",
       "<table border=\"1\" class=\"dataframe\">\n",
       "  <thead>\n",
       "    <tr style=\"text-align: right;\">\n",
       "      <th></th>\n",
       "      <th>STATE_UT_NAME</th>\n",
       "      <th>DISTRICT</th>\n",
       "      <th>DEC</th>\n",
       "    </tr>\n",
       "  </thead>\n",
       "  <tbody>\n",
       "    <tr>\n",
       "      <th>2</th>\n",
       "      <td>ANDAMAN And NICOBAR ISLANDS</td>\n",
       "      <td>N &amp; M ANDAMAN</td>\n",
       "      <td>100.0</td>\n",
       "    </tr>\n",
       "    <tr>\n",
       "      <th>550</th>\n",
       "      <td>ANDHRA PRADESH</td>\n",
       "      <td>MAHABUBNAGAR</td>\n",
       "      <td>3.8</td>\n",
       "    </tr>\n",
       "    <tr>\n",
       "      <th>10</th>\n",
       "      <td>ARUNACHAL PRADESH</td>\n",
       "      <td>PAPUM PARE</td>\n",
       "      <td>11.3</td>\n",
       "    </tr>\n",
       "    <tr>\n",
       "      <th>28</th>\n",
       "      <td>ASSAM</td>\n",
       "      <td>DHUBRI</td>\n",
       "      <td>4.1</td>\n",
       "    </tr>\n",
       "    <tr>\n",
       "      <th>196</th>\n",
       "      <td>BIHAR</td>\n",
       "      <td>SUPAUL</td>\n",
       "      <td>3.7</td>\n",
       "    </tr>\n",
       "    <tr>\n",
       "      <th>306</th>\n",
       "      <td>CHANDIGARH</td>\n",
       "      <td>CHANDIGARH</td>\n",
       "      <td>23.4</td>\n",
       "    </tr>\n",
       "    <tr>\n",
       "      <th>526</th>\n",
       "      <td>CHATISGARH</td>\n",
       "      <td>DANTEWADA</td>\n",
       "      <td>1.3</td>\n",
       "    </tr>\n",
       "    <tr>\n",
       "      <th>479</th>\n",
       "      <td>DADAR NAGAR HAVELI</td>\n",
       "      <td>DNH</td>\n",
       "      <td>0.0</td>\n",
       "    </tr>\n",
       "    <tr>\n",
       "      <th>480</th>\n",
       "      <td>DAMAN AND DUI</td>\n",
       "      <td>DAMAN</td>\n",
       "      <td>0.0</td>\n",
       "    </tr>\n",
       "    <tr>\n",
       "      <th>307</th>\n",
       "      <td>DELHI</td>\n",
       "      <td>NEW DELHI</td>\n",
       "      <td>8.6</td>\n",
       "    </tr>\n",
       "    <tr>\n",
       "      <th>489</th>\n",
       "      <td>GOA</td>\n",
       "      <td>SOUTH GOA</td>\n",
       "      <td>9.1</td>\n",
       "    </tr>\n",
       "    <tr>\n",
       "      <th>474</th>\n",
       "      <td>GUJARAT</td>\n",
       "      <td>JUNAGADH</td>\n",
       "      <td>0.4</td>\n",
       "    </tr>\n",
       "    <tr>\n",
       "      <th>295</th>\n",
       "      <td>HARYANA</td>\n",
       "      <td>SIRSA</td>\n",
       "      <td>2.8</td>\n",
       "    </tr>\n",
       "    <tr>\n",
       "      <th>347</th>\n",
       "      <td>HIMACHAL</td>\n",
       "      <td>UNA</td>\n",
       "      <td>24.1</td>\n",
       "    </tr>\n",
       "    <tr>\n",
       "      <th>353</th>\n",
       "      <td>JAMMU AND KASHMIR</td>\n",
       "      <td>LADAKH (LEH)</td>\n",
       "      <td>4.0</td>\n",
       "    </tr>\n",
       "    <tr>\n",
       "      <th>147</th>\n",
       "      <td>JHARKHAND</td>\n",
       "      <td>DEOGHAR</td>\n",
       "      <td>3.3</td>\n",
       "    </tr>\n",
       "    <tr>\n",
       "      <th>603</th>\n",
       "      <td>KARNATAKA</td>\n",
       "      <td>GULBARGA</td>\n",
       "      <td>4.5</td>\n",
       "    </tr>\n",
       "    <tr>\n",
       "      <th>637</th>\n",
       "      <td>KERALA</td>\n",
       "      <td>KASARGOD</td>\n",
       "      <td>18.4</td>\n",
       "    </tr>\n",
       "    <tr>\n",
       "      <th>640</th>\n",
       "      <td>LAKSHADWEEP</td>\n",
       "      <td>LAKSHADWEEP</td>\n",
       "      <td>58.8</td>\n",
       "    </tr>\n",
       "    <tr>\n",
       "      <th>408</th>\n",
       "      <td>MADHYA PRADESH</td>\n",
       "      <td>DHAR</td>\n",
       "      <td>2.8</td>\n",
       "    </tr>\n",
       "    <tr>\n",
       "      <th>485</th>\n",
       "      <td>MAHARASHTRA</td>\n",
       "      <td>THANE</td>\n",
       "      <td>1.5</td>\n",
       "    </tr>\n",
       "    <tr>\n",
       "      <th>55</th>\n",
       "      <td>MANIPUR</td>\n",
       "      <td>TAMENGLONG</td>\n",
       "      <td>7.2</td>\n",
       "    </tr>\n",
       "    <tr>\n",
       "      <th>49</th>\n",
       "      <td>MEGHALAYA</td>\n",
       "      <td>RI-BHOI</td>\n",
       "      <td>8.8</td>\n",
       "    </tr>\n",
       "    <tr>\n",
       "      <th>65</th>\n",
       "      <td>MIZORAM</td>\n",
       "      <td>LUNGLEI</td>\n",
       "      <td>8.6</td>\n",
       "    </tr>\n",
       "    <tr>\n",
       "      <th>71</th>\n",
       "      <td>NAGALAND</td>\n",
       "      <td>KOHIMA</td>\n",
       "      <td>6.1</td>\n",
       "    </tr>\n",
       "    <tr>\n",
       "      <th>128</th>\n",
       "      <td>ORISSA</td>\n",
       "      <td>NAWARANGPUR</td>\n",
       "      <td>0.7</td>\n",
       "    </tr>\n",
       "    <tr>\n",
       "      <th>592</th>\n",
       "      <td>PONDICHERRY</td>\n",
       "      <td>PONDICHERRY</td>\n",
       "      <td>203.9</td>\n",
       "    </tr>\n",
       "    <tr>\n",
       "      <th>317</th>\n",
       "      <td>PUNJAB</td>\n",
       "      <td>BATHINDA</td>\n",
       "      <td>5.4</td>\n",
       "    </tr>\n",
       "    <tr>\n",
       "      <th>370</th>\n",
       "      <td>RAJASTHAN</td>\n",
       "      <td>BARMER</td>\n",
       "      <td>0.4</td>\n",
       "    </tr>\n",
       "    <tr>\n",
       "      <th>93</th>\n",
       "      <td>SIKKIM</td>\n",
       "      <td>EAST SIKKIM</td>\n",
       "      <td>19.4</td>\n",
       "    </tr>\n",
       "    <tr>\n",
       "      <th>589</th>\n",
       "      <td>TAMIL NADU</td>\n",
       "      <td>KRISHNAGIRI</td>\n",
       "      <td>34.6</td>\n",
       "    </tr>\n",
       "    <tr>\n",
       "      <th>83</th>\n",
       "      <td>TRIPURA</td>\n",
       "      <td>SOUTH TRIPURA</td>\n",
       "      <td>9.7</td>\n",
       "    </tr>\n",
       "    <tr>\n",
       "      <th>212</th>\n",
       "      <td>UTTAR PRADESH</td>\n",
       "      <td>GHAZIPUR</td>\n",
       "      <td>2.3</td>\n",
       "    </tr>\n",
       "    <tr>\n",
       "      <th>283</th>\n",
       "      <td>UTTARANCHAL</td>\n",
       "      <td>UDHAM SINGH N</td>\n",
       "      <td>9.4</td>\n",
       "    </tr>\n",
       "    <tr>\n",
       "      <th>91</th>\n",
       "      <td>WEST BENGAL</td>\n",
       "      <td>NORTH DINAJPUR</td>\n",
       "      <td>3.2</td>\n",
       "    </tr>\n",
       "  </tbody>\n",
       "</table>\n",
       "</div>"
      ],
      "text/plain": [
       "                   STATE_UT_NAME        DISTRICT    DEC\n",
       "2    ANDAMAN And NICOBAR ISLANDS   N & M ANDAMAN  100.0\n",
       "550               ANDHRA PRADESH    MAHABUBNAGAR    3.8\n",
       "10             ARUNACHAL PRADESH      PAPUM PARE   11.3\n",
       "28                         ASSAM          DHUBRI    4.1\n",
       "196                        BIHAR          SUPAUL    3.7\n",
       "306                   CHANDIGARH      CHANDIGARH   23.4\n",
       "526                   CHATISGARH       DANTEWADA    1.3\n",
       "479           DADAR NAGAR HAVELI             DNH    0.0\n",
       "480                DAMAN AND DUI           DAMAN    0.0\n",
       "307                        DELHI       NEW DELHI    8.6\n",
       "489                          GOA       SOUTH GOA    9.1\n",
       "474                      GUJARAT        JUNAGADH    0.4\n",
       "295                      HARYANA           SIRSA    2.8\n",
       "347                     HIMACHAL             UNA   24.1\n",
       "353            JAMMU AND KASHMIR    LADAKH (LEH)    4.0\n",
       "147                    JHARKHAND         DEOGHAR    3.3\n",
       "603                    KARNATAKA        GULBARGA    4.5\n",
       "637                       KERALA        KASARGOD   18.4\n",
       "640                  LAKSHADWEEP     LAKSHADWEEP   58.8\n",
       "408               MADHYA PRADESH            DHAR    2.8\n",
       "485                  MAHARASHTRA           THANE    1.5\n",
       "55                       MANIPUR      TAMENGLONG    7.2\n",
       "49                     MEGHALAYA         RI-BHOI    8.8\n",
       "65                       MIZORAM         LUNGLEI    8.6\n",
       "71                      NAGALAND          KOHIMA    6.1\n",
       "128                       ORISSA     NAWARANGPUR    0.7\n",
       "592                  PONDICHERRY     PONDICHERRY  203.9\n",
       "317                       PUNJAB        BATHINDA    5.4\n",
       "370                    RAJASTHAN          BARMER    0.4\n",
       "93                        SIKKIM     EAST SIKKIM   19.4\n",
       "589                   TAMIL NADU     KRISHNAGIRI   34.6\n",
       "83                       TRIPURA   SOUTH TRIPURA    9.7\n",
       "212                UTTAR PRADESH        GHAZIPUR    2.3\n",
       "283                  UTTARANCHAL   UDHAM SINGH N    9.4\n",
       "91                   WEST BENGAL  NORTH DINAJPUR    3.2"
      ]
     },
     "execution_count": 21,
     "metadata": {},
     "output_type": "execute_result"
    }
   ],
   "source": [
    "least_rainfall_month = df[['JAN', 'FEB', 'MAR', 'APR', 'MAY', 'JUN', 'JUL', 'AUG', 'SEP', 'OCT', 'NOV', 'DEC']].mean().idxmin()\n",
    "\n",
    "min_rainfall_district = df.loc[df.groupby('STATE_UT_NAME')[least_rainfall_month].idxmin()]\n",
    "\n",
    "min_rainfall_district[['STATE_UT_NAME', 'DISTRICT', least_rainfall_month]]"
   ]
  },
  {
   "cell_type": "markdown",
   "id": "02a63130",
   "metadata": {},
   "source": [
    "# Display the count of districts in each state.\n"
   ]
  },
  {
   "cell_type": "code",
   "execution_count": 14,
   "id": "0e7fe1c6",
   "metadata": {
    "scrolled": true
   },
   "outputs": [
    {
     "data": {
      "text/plain": [
       "STATE_UT_NAME\n",
       "ANDAMAN And NICOBAR ISLANDS     3\n",
       "ANDHRA PRADESH                 23\n",
       "ARUNACHAL PRADESH              16\n",
       "ASSAM                          27\n",
       "BIHAR                          38\n",
       "CHANDIGARH                      1\n",
       "CHATISGARH                     18\n",
       "DADAR NAGAR HAVELI              1\n",
       "DAMAN AND DUI                   2\n",
       "DELHI                           9\n",
       "GOA                             2\n",
       "GUJARAT                        26\n",
       "HARYANA                        21\n",
       "HIMACHAL                       12\n",
       "JAMMU AND KASHMIR              22\n",
       "JHARKHAND                      24\n",
       "KARNATAKA                      30\n",
       "KERALA                         14\n",
       "LAKSHADWEEP                     1\n",
       "MADHYA PRADESH                 50\n",
       "MAHARASHTRA                    35\n",
       "MANIPUR                         9\n",
       "MEGHALAYA                       7\n",
       "MIZORAM                         9\n",
       "NAGALAND                       11\n",
       "ORISSA                         30\n",
       "PONDICHERRY                     4\n",
       "PUNJAB                         20\n",
       "RAJASTHAN                      33\n",
       "SIKKIM                          4\n",
       "TAMIL NADU                     32\n",
       "TRIPURA                         4\n",
       "UTTAR PRADESH                  71\n",
       "UTTARANCHAL                    13\n",
       "WEST BENGAL                    19\n",
       "Name: DISTRICT, dtype: int64"
      ]
     },
     "execution_count": 14,
     "metadata": {},
     "output_type": "execute_result"
    }
   ],
   "source": [
    "count_districts = df.groupby(['STATE_UT_NAME']).count()['DISTRICT']\n",
    "count_districts"
   ]
  },
  {
   "cell_type": "markdown",
   "id": "2ec1a3df",
   "metadata": {},
   "source": [
    "# Visualizations"
   ]
  },
  {
   "cell_type": "code",
   "execution_count": 15,
   "id": "87f1f764",
   "metadata": {
    "scrolled": true
   },
   "outputs": [
    {
     "data": {
      "text/plain": [
       "<Axes: xlabel='NO_OF_DISTRICT', ylabel='STATE_UT_NAME'>"
      ]
     },
     "execution_count": 15,
     "metadata": {},
     "output_type": "execute_result"
    },
    {
     "data": {
      "image/png": "[encoded data removed]",
      "text/plain": [
       "<Figure size 800x1500 with 1 Axes>"
      ]
     },
     "metadata": {},
     "output_type": "display_data"
    }
   ],
   "source": [
    "count_districts.plot(kind = 'barh',figsize = (8,15), xlabel = 'NO_OF_DISTRICT', ylabel='STATE_UT_NAME')"
   ]
  },
  {
   "cell_type": "markdown",
   "id": "a9a30a0e",
   "metadata": {},
   "source": [
    " "
   ]
  },
  {
   "cell_type": "code",
   "execution_count": 16,
   "id": "900a5fa6",
   "metadata": {},
   "outputs": [
    {
     "data": {
      "text/plain": [
       "<Axes: xlabel='STATE_UT_NAME'>"
      ]
     },
     "execution_count": 16,
     "metadata": {},
     "output_type": "execute_result"
    },
    {
     "data": {
      "image/png": "[encoded data removed]",
      "text/plain": [
       "<Figure size 2000x500 with 1 Axes>"
      ]
     },
     "metadata": {},
     "output_type": "display_data"
    }
   ],
   "source": [
    "average_annual_rainfall.plot(figsize = (20,5))"
   ]
  },
  {
   "cell_type": "markdown",
   "id": "31c90406",
   "metadata": {},
   "source": [
    " "
   ]
  },
  {
   "cell_type": "code",
   "execution_count": 17,
   "id": "3de9f7c1",
   "metadata": {
    "scrolled": false
   },
   "outputs": [
    {
     "data": {
      "text/plain": [
       "<Axes: >"
      ]
     },
     "execution_count": 17,
     "metadata": {},
     "output_type": "execute_result"
    },
    {
     "data": {
      "image/png": "[encoded data removed]",
      "text/plain": [
       "<Figure size 1500x500 with 1 Axes>"
      ]
     },
     "metadata": {},
     "output_type": "display_data"
    }
   ],
   "source": [
    "most_rainfall_month = df[['JAN', 'FEB', 'MAR', 'APR', 'MAY', 'JUN', 'JUL', 'AUG', 'SEP', 'OCT', 'NOV', 'DEC']].sum()\n",
    "most_rainfall_month.plot(figsize = (15,5))"
   ]
  },
  {
   "cell_type": "markdown",
   "id": "97691bab",
   "metadata": {},
   "source": [
    " "
   ]
  },
  {
   "cell_type": "code",
   "execution_count": 18,
   "id": "526ffb3c",
   "metadata": {
    "scrolled": false
   },
   "outputs": [
    {
     "data": {
      "text/plain": [
       "<Axes: xlabel='STATE_UT_NAME'>"
      ]
     },
     "execution_count": 18,
     "metadata": {},
     "output_type": "execute_result"
    },
    {
     "data": {
      "image/png": "[encoded data removed]",
      "text/plain": [
       "<Figure size 640x480 with 1 Axes>"
      ]
     },
     "metadata": {},
     "output_type": "display_data"
    }
   ],
   "source": [
    "top_5_states_highest_rainfall.plot(kind = 'bar')"
   ]
  },
  {
   "cell_type": "markdown",
   "id": "344cbfae",
   "metadata": {},
   "source": [
    " "
   ]
  },
  {
   "cell_type": "code",
   "execution_count": 19,
   "id": "b4ff13fb",
   "metadata": {
    "scrolled": false
   },
   "outputs": [
    {
     "data": {
      "text/plain": [
       "<Axes: xlabel='STATE_UT_NAME'>"
      ]
     },
     "execution_count": 19,
     "metadata": {},
     "output_type": "execute_result"
    },
    {
     "data": {
      "image/png": "[encoded data removed]",
      "text/plain": [
       "<Figure size 640x480 with 1 Axes>"
      ]
     },
     "metadata": {},
     "output_type": "display_data"
    }
   ],
   "source": [
    "top_5_states_lowest_rainfall.plot(kind = 'bar')"
   ]
  },
  {
   "cell_type": "markdown",
   "id": "b85feee0",
   "metadata": {},
   "source": [
    " "
   ]
  },
  {
   "cell_type": "markdown",
   "id": "7d597ddf",
   "metadata": {},
   "source": [
    "### Summary\n",
    "\n",
    "* **Tamenglong** is a wettest ditrict with a highest annual rainfall of 7229.3mm.\n",
    "* **Ladakh (Leh)** is a driest district with a lowest annual rainfall of 94.6mm.\n",
    "* The most rainfall happens in the month of **july** across the India.\n",
    "* The least rainfall happens in the month of **december** across the India.\n",
    "* I have analysed the above data to find the other insights like annual rainfall across states, top 5 districts with highest and lowest rainfall and no of districts in each states.\n",
    "* Created some visuals to see the insights thrugh visualizations."
   ]
  },
  {
   "cell_type": "markdown",
   "id": "8ce040e5",
   "metadata": {},
   "source": [
    " "
   ]
  }
 ],
 "metadata": {
  "kernelspec": {
   "display_name": "Python 3 (ipykernel)",
   "language": "python",
   "name": "python3"
  },
  "language_info": {
   "codemirror_mode": {
    "name": "ipython",
    "version": 3
   },
   "file_extension": ".py",
   "mimetype": "text/x-python",
   "name": "python",
   "nbconvert_exporter": "python",
   "pygments_lexer": "ipython3",
   "version": "3.11.5"
  }
 },
 "nbformat": 4,
 "nbformat_minor": 5
}
